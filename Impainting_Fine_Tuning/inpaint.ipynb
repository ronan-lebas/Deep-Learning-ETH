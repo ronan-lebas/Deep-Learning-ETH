{
 "cells": [
  {
   "cell_type": "code",
   "execution_count": 1,
   "metadata": {},
   "outputs": [],
   "source": [
    "import torch\n",
    "from diffusers.utils import load_image, make_image_grid\n",
    "from diffusers import AutoPipelineForInpainting\n",
    "from PIL import Image, ImageDraw\n",
    "import random"
   ]
  },
  {
   "cell_type": "code",
   "execution_count": 2,
   "metadata": {},
   "outputs": [],
   "source": [
    "def generate_random_mask(image_size):\n",
    "    mask = Image.new(\"L\", image_size, 0)  # Create a blank (black) mask\n",
    "    draw = ImageDraw.Draw(mask)\n",
    "    width, height = image_size\n",
    "    \n",
    "    x1, y1 = width//4 + random.randint(-width//10, width//10), height//4 + random.randint(-height//10, height//10)\n",
    "    x2, y2 = 3*width//4 + random.randint(-width//10, width//10), 3*height//4 + random.randint(-height//10, height//10)\n",
    "    # Draw a filled rectangle\n",
    "    draw.rectangle([x1, y1, x2, y2], fill=255)\n",
    "    return mask, (x1, y1, x2, y2)"
   ]
  },
  {
   "cell_type": "markdown",
   "metadata": {},
   "source": [
    "Testing every checkpoints of LoRA trained model (`fine_tune_lora.sh`)"
   ]
  },
  {
   "cell_type": "code",
   "execution_count": null,
   "metadata": {},
   "outputs": [],
   "source": [
    "NUM_CHECKPOINTS = 1\n",
    "folders_temp = [f\"checkpoint-{500*k}\" for k in range(1, NUM_CHECKPOINTS+1)]\n",
    "folders = [\"results20250111183706/\" + folder + \"/\" for folder in folders_temp]\n",
    "\n",
    "for j, folder in enumerate(folders):\n",
    "    print(f\"{folders_temp[j]}.png\")\n",
    "\n",
    "    pipeline = AutoPipelineForInpainting.from_pretrained(\n",
    "        \"stabilityai/stable-diffusion-2-inpainting\", torch_dtype=torch.float16, variant=\"fp16\"\n",
    "    )\n",
    "\n",
    "    # LoRA part\n",
    "\n",
    "    pipeline.load_lora_weights(folder, weight_name=\"LoRA_2_pytorch_lora_weights.safetensors\")\n",
    "\n",
    "    #\n",
    "\n",
    "    pipeline.enable_model_cpu_offload()\n",
    "    image_grid = []\n",
    "\n",
    "    for i in range(4):\n",
    "        # load base and mask image\n",
    "        init_image = load_image(f\"bg_images/back{i+1}.jpg\")\n",
    "        \n",
    "        # resize them 512x512\n",
    "        init_image = init_image.resize((512, 512))\n",
    "        mask_image, mask_coords = generate_random_mask(init_image.size)\n",
    "        mask_image = mask_image.resize((512, 512))\n",
    "\n",
    "        generator = torch.Generator(\"cuda\").manual_seed(92)\n",
    "        prompt = \"a piece of trash floating underwater, realistic, blend with the environment\"\n",
    "        #negative_prompt = \"text, clean, clear, nothing\"\n",
    "        #prompt = \"a plastic trash in the sea, a weathered plastic trash partially buried in the seabed, blending seamlessly with the sand and rocks\"\n",
    "        \n",
    "        #prompt = \"A piece of trash underwater, realistic, highly detailed, blending with the environment\"\n",
    "        negative_prompt = \"Unrealistic, clean, blurry\"\n",
    "        \n",
    "        image = pipeline(prompt=prompt, negative_prompt=negative_prompt, image=init_image, mask_image=mask_image, strength=1, generator=generator, padding_mask_crop=32).images[0]\n",
    "        draw = ImageDraw.Draw(image)\n",
    "        draw.rectangle(mask_coords, outline=\"red\", width=3)\n",
    "        image_grid.append(make_image_grid([init_image, mask_image, image], rows=1, cols=3))\n",
    "    image_grid = make_image_grid(image_grid, rows=4, cols=1)\n",
    "    image_grid.save(f\"inpainting{folders_temp[j]}.png\")\n",
    "\n",
    "    print(f\"Saved inpainting{folders_temp[j]}.png\")"
   ]
  },
  {
   "cell_type": "code",
   "execution_count": null,
   "metadata": {},
   "outputs": [],
   "source": [
    "NUM_CHECKPOINTS = 2\n",
    "folders_temp = [f\"checkpoint-{500*k}\" for k in range(1, NUM_CHECKPOINTS+1)]\n",
    "folders = [\"results20250111183706/\" + folder + \"/\" for folder in folders_temp]\n",
    "\n",
    "for j, folder in enumerate(folders):\n",
    "    print(f\"{folders_temp[j]}.png\")\n",
    "\n",
    "    pipeline = AutoPipelineForInpainting.from_pretrained(\n",
    "        \"stabilityai/stable-diffusion-2-inpainting\", torch_dtype=torch.float16, variant=\"fp16\"\n",
    "    )\n",
    "\n",
    "    # LoRA part\n",
    "\n",
    "    pipeline.load_lora_weights(folder, weight_name=\"LoRA_2_pytorch_lora_weights.safetensors\")\n",
    "\n",
    "    #\n",
    "\n",
    "    pipeline.enable_model_cpu_offload()\n",
    "    image_grid = []\n",
    "\n",
    "    for i in range(4):\n",
    "        # load base and mask image\n",
    "        init_image = load_image(f\"bg_images/back{i+1}.jpg\")\n",
    "        \n",
    "        # resize them 512x512\n",
    "        init_image = init_image.resize((512, 512))\n",
    "        mask_image, mask_coords = generate_random_mask(init_image.size)\n",
    "        mask_image = mask_image.resize((512, 512))\n",
    "\n",
    "        generator = torch.Generator(\"cuda\").manual_seed(92)\n",
    "        prompt = \"a piece of trash floating underwater, realistic, blend with the environment\"\n",
    "        #negative_prompt = \"text, clean, clear, nothing\"\n",
    "        #prompt = \"a plastic trash in the sea, a weathered plastic trash partially buried in the seabed, blending seamlessly with the sand and rocks\"\n",
    "        \n",
    "        #prompt = \"A piece of trash underwater, realistic, highly detailed, blending with the environment\"\n",
    "        negative_prompt = \"Unrealistic, clean, blurry\"\n",
    "        \n",
    "        image = pipeline(prompt=prompt, negative_prompt=negative_prompt, image=init_image, mask_image=mask_image, strength=1, generator=generator, padding_mask_crop=32).images[0]\n",
    "        draw = ImageDraw.Draw(image)\n",
    "        draw.rectangle(mask_coords, outline=\"red\", width=3)\n",
    "        image_grid.append(make_image_grid([init_image, mask_image, image], rows=1, cols=3))\n",
    "    image_grid = make_image_grid(image_grid, rows=4, cols=1)\n",
    "    image_grid.save(f\"inpainting{folders_temp[j]}.png\")\n",
    "\n",
    "    print(f\"Saved inpainting{folders_temp[j]}.png\")"
   ]
  },
  {
   "cell_type": "code",
   "execution_count": null,
   "metadata": {},
   "outputs": [],
   "source": [
    "import peft\n",
    "print(peft.__version__)"
   ]
  },
  {
   "cell_type": "markdown",
   "metadata": {},
   "source": [
    "Testing with Dreambooth trained model (`fine_tune_dreambooth_inpaint.sh`)"
   ]
  },
  {
   "cell_type": "code",
   "execution_count": null,
   "metadata": {},
   "outputs": [],
   "source": [
    "pipeline = AutoPipelineForInpainting.from_pretrained(\n",
    "    \"results/results20250111192740\", torch_dtype=torch.float16\n",
    ")\n",
    "\n",
    "pipeline.enable_model_cpu_offload()\n",
    "image_grid = []\n",
    "\n",
    "for i in range(4):\n",
    "    # load base and mask image\n",
    "    init_image = load_image(f\"bg_images/back{i+1}.jpg\")\n",
    "    \n",
    "    # resize them 512x512\n",
    "    init_image = init_image.resize((512, 512))\n",
    "    mask_image, mask_coords = generate_random_mask(init_image.size)\n",
    "    mask_image = mask_image.resize((512, 512))\n",
    "\n",
    "    generator = torch.Generator(\"cuda\").manual_seed(92)\n",
    "    prompt = \"a piece of trash floating underwater, realistic, blend with the environment\"\n",
    "    #negative_prompt = \"text, clean, clear, nothing\"\n",
    "    #prompt = \"a plastic trash in the sea, a weathered plastic trash partially buried in the seabed, blending seamlessly with the sand and rocks\"\n",
    "    \n",
    "    #prompt = \"A piece of trash underwater, realistic, highly detailed, blending with the environment\"\n",
    "    negative_prompt = \"Unrealistic, clean, blurry\"\n",
    "    \n",
    "    image = pipeline(prompt=prompt, negative_prompt=negative_prompt, image=init_image, mask_image=mask_image, strength=1, generator=generator, padding_mask_crop=32).images[0]\n",
    "    draw = ImageDraw.Draw(image)\n",
    "    draw.rectangle(mask_coords, outline=\"red\", width=3)\n",
    "    image_grid.append(make_image_grid([init_image, mask_image, image], rows=1, cols=3))\n",
    "image_grid = make_image_grid(image_grid, rows=4, cols=1)\n",
    "image_grid.save(f\"inpainting.png\")\n",
    "print(f\"Saved inpainting.png\")"
   ]
  }
 ],
 "metadata": {
  "kernelspec": {
   "display_name": "ETH_DL",
   "language": "python",
   "name": "python3"
  },
  "language_info": {
   "codemirror_mode": {
    "name": "ipython",
    "version": 3
   },
   "file_extension": ".py",
   "mimetype": "text/x-python",
   "name": "python",
   "nbconvert_exporter": "python",
   "pygments_lexer": "ipython3",
   "version": "3.12.2"
  }
 },
 "nbformat": 4,
 "nbformat_minor": 2
}
