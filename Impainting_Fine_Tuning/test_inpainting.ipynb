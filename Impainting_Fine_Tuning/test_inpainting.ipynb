{
 "cells": [
  {
   "cell_type": "code",
   "execution_count": 1,
   "metadata": {},
   "outputs": [],
   "source": [
    "import torch\n",
    "from diffusers.utils import load_image, make_image_grid\n",
    "from diffusers import AutoPipelineForInpainting\n",
    "from PIL import Image, ImageDraw\n",
    "import random\n",
    "import os"
   ]
  },
  {
   "cell_type": "code",
   "execution_count": 2,
   "metadata": {},
   "outputs": [],
   "source": [
    "def generate_random_mask(image_size):\n",
    "    mask = Image.new(\"L\", image_size, 0)  # Create a blank (black) mask\n",
    "    draw = ImageDraw.Draw(mask)\n",
    "    width, height = image_size\n",
    "    \n",
    "    x1, y1 = width//4 + random.randint(-width//10, width//10), height//4 + random.randint(-height//10, height//10)\n",
    "    x2, y2 = 3*width//4 + random.randint(-width//10, width//10), 3*height//4 + random.randint(-height//10, height//10)\n",
    "    # Draw a filled rectangle\n",
    "    draw.rectangle([x1, y1, x2, y2], fill=255)\n",
    "    return mask, (x1, y1, x2, y2)"
   ]
  },
  {
   "cell_type": "markdown",
   "metadata": {},
   "source": [
    "Testing every checkpoints of LoRA trained model (`fine_tune_lora.sh`)"
   ]
  },
  {
   "cell_type": "code",
   "execution_count": null,
   "metadata": {},
   "outputs": [],
   "source": [
    "# Constants\n",
    "NUM_CHECKPOINTS = 2  # Number of checkpoints to process\n",
    "BASE_FOLDER = \"results20250111183706/\"  # Base folder containing checkpoint folders produced by fine_tune_lora.sh\n",
    "CHECKPOINT_TEMPLATE = \"checkpoint-{500*k}\"  # Template for checkpoint folder names\n",
    "\n",
    "# Create folder paths for checkpoints\n",
    "folders_temp = [f\"checkpoint-{500*k}\" for k in range(1, NUM_CHECKPOINTS + 1)]\n",
    "folders = [os.path.join(BASE_FOLDER, folder, \"\") for folder in folders_temp]\n",
    "\n",
    "# Loop over each checkpoint folder\n",
    "for j, folder in enumerate(folders):\n",
    "    print(f\"Processing {folders_temp[j]}...\")\n",
    "\n",
    "    # Initialize the inpainting pipeline from pre-trained weights\n",
    "    pipeline = AutoPipelineForInpainting.from_pretrained(\n",
    "        \"stabilityai/stable-diffusion-2-inpainting\", \n",
    "        torch_dtype=torch.float16, \n",
    "        variant=\"fp16\"\n",
    "    )\n",
    "\n",
    "    # Load LoRA weights for fine-tuning\n",
    "    pipeline.load_lora_weights(folder, weight_name=\"LoRA_2_pytorch_lora_weights.safetensors\")\n",
    "\n",
    "    # Enable efficient memory usage by offloading models to CPU when not in use\n",
    "    pipeline.enable_model_cpu_offload()\n",
    "    image_grid = []  # List to store the final grid of images for this checkpoint\n",
    "\n",
    "    # Generate results for 4 base images\n",
    "    for i in range(4):\n",
    "        # Load and resize the base image\n",
    "        init_image_path = f\"bg_images/back{i+1}.jpg\"\n",
    "        init_image = load_image(init_image_path)\n",
    "        init_image = init_image.resize((512, 512))  # Resize to 512x512 for processing\n",
    "\n",
    "        # Generate a random mask image and resize it\n",
    "        mask_image, mask_coords = generate_random_mask(init_image.size)\n",
    "        mask_image = mask_image.resize((512, 512))  # Resize to 512x512 for inpainting\n",
    "\n",
    "        # Set up a fixed random generator for reproducibility\n",
    "        generator = torch.Generator(\"cuda\").manual_seed(92)\n",
    "\n",
    "        # Define prompts\n",
    "        prompt = \"a piece of trash floating underwater, realistic, blend with the environment\"\n",
    "        negative_prompt = \"Unrealistic, clean, blurry\"\n",
    "\n",
    "        # Perform inpainting\n",
    "        image = pipeline(\n",
    "            prompt=prompt, \n",
    "            negative_prompt=negative_prompt, \n",
    "            image=init_image, \n",
    "            mask_image=mask_image, \n",
    "            strength=1, \n",
    "            generator=generator, \n",
    "            padding_mask_crop=32\n",
    "        ).images[0]\n",
    "\n",
    "        # Draw a red rectangle to visualize the mask area\n",
    "        draw = ImageDraw.Draw(image)\n",
    "        draw.rectangle(mask_coords, outline=\"red\", width=3)\n",
    "\n",
    "        # Create a grid of images (original, mask, result) for visualization\n",
    "        image_grid.append(make_image_grid([init_image, mask_image, image], rows=1, cols=3))\n",
    "\n",
    "    # Combine all 4 sets of images into one vertical grid\n",
    "    image_grid = make_image_grid(image_grid, rows=4, cols=1)\n",
    "\n",
    "    # Save the grid as a PNG file\n",
    "    output_path = f\"inpainting{folders_temp[j]}.png\"\n",
    "    image_grid.save(output_path)\n",
    "\n",
    "    print(f\"Saved {output_path}\")\n"
   ]
  }
 ],
 "metadata": {
  "kernelspec": {
   "display_name": "ETH_DL",
   "language": "python",
   "name": "python3"
  },
  "language_info": {
   "codemirror_mode": {
    "name": "ipython",
    "version": 3
   },
   "file_extension": ".py",
   "mimetype": "text/x-python",
   "name": "python",
   "nbconvert_exporter": "python",
   "pygments_lexer": "ipython3",
   "version": "3.12.2"
  }
 },
 "nbformat": 4,
 "nbformat_minor": 2
}
