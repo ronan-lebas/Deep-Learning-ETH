{
 "cells": [
  {
   "cell_type": "code",
   "execution_count": null,
   "metadata": {},
   "outputs": [
    {
     "ename": "AttributeError",
     "evalue": "'dict' object has no attribute 'mode'",
     "output_type": "error",
     "traceback": [
      "\u001b[0;31m---------------------------------------------------------------------------\u001b[0m",
      "\u001b[0;31mAttributeError\u001b[0m                            Traceback (most recent call last)",
      "Cell \u001b[0;32mIn[2], line 16\u001b[0m\n\u001b[1;32m      4\u001b[0m config\u001b[38;5;241m=\u001b[39m{\n\u001b[1;32m      5\u001b[0m         \u001b[38;5;124m\"\u001b[39m\u001b[38;5;124mbatch_size\u001b[39m\u001b[38;5;124m\"\u001b[39m: \u001b[38;5;241m32\u001b[39m,\n\u001b[1;32m      6\u001b[0m         \u001b[38;5;124m\"\u001b[39m\u001b[38;5;124mlearning_rate\u001b[39m\u001b[38;5;124m\"\u001b[39m: \u001b[38;5;241m0.001\u001b[39m,\n\u001b[0;32m   (...)\u001b[0m\n\u001b[1;32m     12\u001b[0m         \u001b[38;5;124m\"\u001b[39m\u001b[38;5;124meval_mode\u001b[39m\u001b[38;5;124m\"\u001b[39m: \u001b[38;5;124m\"\u001b[39m\u001b[38;5;124mbasic\u001b[39m\u001b[38;5;124m\"\u001b[39m,\n\u001b[1;32m     13\u001b[0m     }\n\u001b[1;32m     15\u001b[0m transform \u001b[38;5;241m=\u001b[39m transforms\u001b[38;5;241m.\u001b[39mCompose([transforms\u001b[38;5;241m.\u001b[39mToTensor()])\n\u001b[0;32m---> 16\u001b[0m train_dataset \u001b[38;5;241m=\u001b[39m CroppedImageDataset(mode\u001b[38;5;241m=\u001b[39m\u001b[43mconfig\u001b[49m\u001b[38;5;241;43m.\u001b[39;49m\u001b[43mmode\u001b[49m, split\u001b[38;5;241m=\u001b[39m\u001b[38;5;124m\"\u001b[39m\u001b[38;5;124mtrain\u001b[39m\u001b[38;5;124m\"\u001b[39m, transform\u001b[38;5;241m=\u001b[39mtransform)\n\u001b[1;32m     17\u001b[0m test_dataset \u001b[38;5;241m=\u001b[39m CroppedImageDataset(mode\u001b[38;5;241m=\u001b[39mconfig\u001b[38;5;241m.\u001b[39meval_mode, split\u001b[38;5;241m=\u001b[39m\u001b[38;5;124m\"\u001b[39m\u001b[38;5;124mtest\u001b[39m\u001b[38;5;124m\"\u001b[39m, transform\u001b[38;5;241m=\u001b[39mtransform)\n",
      "\u001b[0;31mAttributeError\u001b[0m: 'dict' object has no attribute 'mode'"
     ]
    }
   ],
   "source": [
    "from torchvision import transforms\n",
    "from dataset import CroppedImageDataset\n",
    "import wandb\n",
    "\n",
    "wandb.init(\n",
    "project=\"focusnet-bbox-refinement\",\n",
    "config={\n",
    "    \"batch_size\": 32,\n",
    "    \"learning_rate\": 0.001,\n",
    "    \"epochs\": 40,\n",
    "    \"optimizer\": \"SGD\",\n",
    "    \"loss_function\": \"SmoothL1Loss\",\n",
    "    \"train_split\": 0.8,\n",
    "    \"mode\": \"basic\",\n",
    "    \"eval_mode\": \"basic\",\n",
    "})\n",
    "\n",
    "config = wandb.config\n",
    "\n",
    "transform = transforms.Compose([transforms.ToTensor()])\n",
    "train_dataset = CroppedImageDataset(mode=config.mode, split=\"train\", transform=transform)\n",
    "test_dataset = CroppedImageDataset(mode=config.eval_mode, split=\"test\", transform=transform)\n"
   ]
  },
  {
   "cell_type": "code",
   "execution_count": null,
   "metadata": {},
   "outputs": [],
   "source": [
    "from train import train_model\n",
    "\n",
    "train_model(train_dataset, test_dataset, config)"
   ]
  }
 ],
 "metadata": {
  "kernelspec": {
   "display_name": "ETH_DL",
   "language": "python",
   "name": "python3"
  },
  "language_info": {
   "codemirror_mode": {
    "name": "ipython",
    "version": 3
   },
   "file_extension": ".py",
   "mimetype": "text/x-python",
   "name": "python",
   "nbconvert_exporter": "python",
   "pygments_lexer": "ipython3",
   "version": "3.12.2"
  }
 },
 "nbformat": 4,
 "nbformat_minor": 2
}
